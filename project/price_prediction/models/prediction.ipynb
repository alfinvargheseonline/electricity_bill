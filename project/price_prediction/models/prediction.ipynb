{
  "cells": [
    {
      "cell_type": "code",
      "execution_count": 6,
      "metadata": {
        "colab": {
          "base_uri": "https://localhost:8080/"
        },
        "id": "DpBYPfVgW9q2",
        "outputId": "8a3bc6a5-2c5f-46d9-ca6f-727002af233d"
      },
      "outputs": [
        {
          "name": "stdout",
          "output_type": "stream",
          "text": [
            "Mean Squared Error: 6.704686605654424e-27\n",
            "Mean Absolute Error: 5.940137270954437e-14\n",
            "R-squared: 1.0\n",
            "Predicted Electricity Price: 149.99999999999983\n"
          ]
        }
      ],
      "source": [
        "import pandas as pd\n",
        "from sklearn.model_selection import train_test_split\n",
        "from sklearn.linear_model import LinearRegression\n",
        "from sklearn.metrics import mean_squared_error, mean_absolute_error, r2_score\n",
        "import joblib\n",
        "\n",
        "# Load your dataset (replace 'myFile.csv' with your dataset file)\n",
        "data = pd.read_csv('myFile.csv')\n",
        "\n",
        "# Define input features and target variable\n",
        "X = data[['LastReading', 'currentReading', 'CurrentBill']]\n",
        "y = data['CurrentBill']\n",
        "\n",
        "# Split the data into training and testing sets\n",
        "X_train, X_test, y_train, y_test = train_test_split(X, y, test_size=0.2, random_state=42)\n",
        "\n",
        "# Create a Linear Regression model\n",
        "model = LinearRegression()\n",
        "\n",
        "# Train the model on the training data\n",
        "model.fit(X_train, y_train)\n",
        "\n",
        "# Make predictions on the testing data\n",
        "y_pred = model.predict(X_test)\n",
        "\n",
        "# Evaluate the model\n",
        "mse = mean_squared_error(y_test, y_pred)\n",
        "mae = mean_absolute_error(y_test, y_pred)\n",
        "r2 = r2_score(y_test, y_pred)\n",
        "\n",
        "print(f\"Mean Squared Error: {mse}\")\n",
        "print(f\"Mean Absolute Error: {mae}\")\n",
        "print(f\"R-squared: {r2}\")\n",
        "\n",
        "# Save the trained model using joblib\n",
        "joblib.dump(model, 'linear_regression_model.joblib')\n",
        "\n",
        "# Now, you can use the trained model to make predictions for new data\n",
        "new_data = pd.DataFrame({'LastReading': [300], 'currentReading': [250], 'CurrentBill': [150]})\n",
        "predicted_price = model.predict(new_data)\n",
        "\n",
        "print(f\"Predicted Electricity Price: {predicted_price[0]}\")\n"
      ]
    }
  ],
  "metadata": {
    "colab": {
      "provenance": []
    },
    "kernelspec": {
      "display_name": "Python 3",
      "name": "python3"
    },
    "language_info": {
      "codemirror_mode": {
        "name": "ipython",
        "version": 3
      },
      "file_extension": ".py",
      "mimetype": "text/x-python",
      "name": "python",
      "nbconvert_exporter": "python",
      "pygments_lexer": "ipython3",
      "version": "3.7.9"
    }
  },
  "nbformat": 4,
  "nbformat_minor": 0
}
